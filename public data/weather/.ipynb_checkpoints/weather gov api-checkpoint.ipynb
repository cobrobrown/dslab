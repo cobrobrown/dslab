{
 "cells": [
  {
   "cell_type": "code",
   "execution_count": 3,
   "id": "earlier-bargain",
   "metadata": {},
   "outputs": [],
   "source": [
    "import pandas as pd\n",
    "import requests\n",
    "import json"
   ]
  },
  {
   "cell_type": "code",
   "execution_count": 8,
   "id": "dental-heart",
   "metadata": {},
   "outputs": [
    {
     "data": {
      "text/plain": [
       "<Response [404]>"
      ]
     },
     "execution_count": 8,
     "metadata": {},
     "output_type": "execute_result"
    }
   ],
   "source": [
    "base_url = \"https://api.weather.gov/points/\"\n",
    "headers = {\n",
    "    'User-Agent': 'Conner Brown',\n",
    "    'From': 'cobrobrown@gmail.com'  # This is another valid field\n",
    "}\n",
    "\n",
    "lat = 37\n",
    "long = 120\n",
    "complete_url = base_url+str(lat)+\",\"+str(long)\n",
    "\n",
    "response = requests.get(complete_url,headers=headers)\n",
    "response"
   ]
  },
  {
   "cell_type": "code",
   "execution_count": null,
   "id": "focal-thailand",
   "metadata": {},
   "outputs": [],
   "source": []
  }
 ],
 "metadata": {
  "kernelspec": {
   "display_name": "Python 3",
   "language": "python",
   "name": "python3"
  },
  "language_info": {
   "codemirror_mode": {
    "name": "ipython",
    "version": 3
   },
   "file_extension": ".py",
   "mimetype": "text/x-python",
   "name": "python",
   "nbconvert_exporter": "python",
   "pygments_lexer": "ipython3",
   "version": "3.8.2"
  }
 },
 "nbformat": 4,
 "nbformat_minor": 5
}
