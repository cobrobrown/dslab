{
 "cells": [
  {
   "cell_type": "code",
   "execution_count": 2,
   "id": "mature-ethics",
   "metadata": {},
   "outputs": [],
   "source": [
    "import pandas as pd\n",
    "import censusdata"
   ]
  },
  {
   "cell_type": "code",
   "execution_count": 3,
   "id": "upset-batch",
   "metadata": {},
   "outputs": [
    {
     "output_type": "execute_result",
     "data": {
      "text/plain": [
       "[('B12006_006E',\n",
       "  'MARITAL STATUS BY SEX BY LABOR FORCE PARTICIPATION',\n",
       "  'Estimate!!Total!!Never married!!Male!!In labor force!!Unemployed'),\n",
       " ('B12006_011E',\n",
       "  'MARITAL STATUS BY SEX BY LABOR FORCE PARTICIPATION',\n",
       "  'Estimate!!Total!!Never married!!Female!!In labor force!!Unemployed'),\n",
       " ('B12006_017E',\n",
       "  'MARITAL STATUS BY SEX BY LABOR FORCE PARTICIPATION',\n",
       "  'Estimate!!Total!!Now married (except separated)!!Male!!In labor force!!Unemployed'),\n",
       " ('B12006_022E',\n",
       "  'MARITAL STATUS BY SEX BY LABOR FORCE PARTICIPATION',\n",
       "  'Estimate!!Total!!Now married (except separated)!!Female!!In labor force!!Unemployed'),\n",
       " ('B12006_028E',\n",
       "  'MARITAL STATUS BY SEX BY LABOR FORCE PARTICIPATION',\n",
       "  'Estimate!!Total!!Separated!!Male!!In labor force!!Unemployed')]"
      ]
     },
     "metadata": {},
     "execution_count": 3
    }
   ],
   "source": [
    "## search labels to find measures\n",
    "censusdata.search('acs5', 2015, 'label', 'unemployed')[:5]\n"
   ]
  },
  {
   "cell_type": "code",
   "execution_count": 4,
   "id": "possible-comparison",
   "metadata": {},
   "outputs": [
    {
     "output_type": "execute_result",
     "data": {
      "text/plain": [
       "        B23025_003E    B23025_005E   B15003_001E   B15003_002E  B15003_003E  \\\n",
       "count  3.220000e+03    3220.000000  3.220000e+03    3220.00000  3220.000000   \n",
       "mean   4.975060e+04    4157.086025  6.642154e+04     944.11646     9.893789   \n",
       "std    1.646312e+05   15298.072448  2.121312e+05    5089.09270    50.397105   \n",
       "min    6.400000e+01       0.000000  7.800000e+01       0.00000     0.000000   \n",
       "25%    4.911750e+03     361.000000  7.762500e+03      63.00000     0.000000   \n",
       "50%    1.155500e+04     988.500000  1.777650e+04     197.00000     0.000000   \n",
       "75%    3.124100e+04    2620.500000  4.450600e+04     519.00000     3.000000   \n",
       "max    5.150589e+06  515124.000000  6.653174e+06  217614.00000  1813.000000   \n",
       "\n",
       "       B15003_004E  B15003_005E   B15003_006E   B15003_007E   B15003_008E  \\\n",
       "count  3220.000000   3220.00000   3220.000000   3220.000000   3220.000000   \n",
       "mean     12.896273     47.51646    103.694410    211.418323    173.291925   \n",
       "std      68.086639    313.80419    741.564217   1423.940898    994.090159   \n",
       "min       0.000000      0.00000      0.000000      0.000000      0.000000   \n",
       "25%       0.000000      0.00000      0.000000      3.000000      2.000000   \n",
       "50%       0.000000      0.00000      8.000000     25.000000     22.000000   \n",
       "75%       6.000000     20.00000     41.000000     94.000000     82.000000   \n",
       "max    2783.000000  14391.00000  33566.000000  63872.000000  41752.000000   \n",
       "\n",
       "        B15003_009E    B15003_010E   B15003_011E   B15003_012E    B15003_013E  \\\n",
       "count   3220.000000    3220.000000   3220.000000   3220.000000    3220.000000   \n",
       "mean     234.764907     872.355901    335.071739    941.885404    1117.521429   \n",
       "std     1374.424843    6735.333939   1311.091658   3020.298931    4680.464334   \n",
       "min        0.000000       0.000000      0.000000      0.000000       0.000000   \n",
       "25%        6.000000      30.000000     28.000000    166.000000     128.750000   \n",
       "50%       35.500000     104.500000     99.000000    386.500000     356.000000   \n",
       "75%      117.000000     329.250000    267.500000    816.000000     854.250000   \n",
       "max    56909.000000  306175.000000  47508.000000  99483.000000  182843.000000   \n",
       "\n",
       "        B15003_014E    B15003_015E    B15003_016E  percent_unemployed  \\\n",
       "count   3220.000000    3220.000000    3220.000000         3220.000000   \n",
       "mean    1300.563354    1476.533540    1187.417391            8.094892   \n",
       "std     3539.358346    4515.542014    5205.656965            4.094913   \n",
       "min        0.000000       0.000000       0.000000            0.000000   \n",
       "25%      188.750000     213.000000     107.000000            5.520789   \n",
       "50%      488.000000     531.000000     275.000000            7.598830   \n",
       "75%     1133.500000    1181.750000     707.500000            9.895258   \n",
       "max    98237.000000  146439.000000  198125.000000           36.503258   \n",
       "\n",
       "       percent_nohs  \n",
       "count   3220.000000  \n",
       "mean      14.944075  \n",
       "std        7.041840  \n",
       "min        1.591696  \n",
       "25%        9.658453  \n",
       "50%       13.278299  \n",
       "75%       19.348905  \n",
       "max       53.720346  "
      ],
      "text/html": "<div>\n<style scoped>\n    .dataframe tbody tr th:only-of-type {\n        vertical-align: middle;\n    }\n\n    .dataframe tbody tr th {\n        vertical-align: top;\n    }\n\n    .dataframe thead th {\n        text-align: right;\n    }\n</style>\n<table border=\"1\" class=\"dataframe\">\n  <thead>\n    <tr style=\"text-align: right;\">\n      <th></th>\n      <th>B23025_003E</th>\n      <th>B23025_005E</th>\n      <th>B15003_001E</th>\n      <th>B15003_002E</th>\n      <th>B15003_003E</th>\n      <th>B15003_004E</th>\n      <th>B15003_005E</th>\n      <th>B15003_006E</th>\n      <th>B15003_007E</th>\n      <th>B15003_008E</th>\n      <th>B15003_009E</th>\n      <th>B15003_010E</th>\n      <th>B15003_011E</th>\n      <th>B15003_012E</th>\n      <th>B15003_013E</th>\n      <th>B15003_014E</th>\n      <th>B15003_015E</th>\n      <th>B15003_016E</th>\n      <th>percent_unemployed</th>\n      <th>percent_nohs</th>\n    </tr>\n  </thead>\n  <tbody>\n    <tr>\n      <th>count</th>\n      <td>3.220000e+03</td>\n      <td>3220.000000</td>\n      <td>3.220000e+03</td>\n      <td>3220.00000</td>\n      <td>3220.000000</td>\n      <td>3220.000000</td>\n      <td>3220.00000</td>\n      <td>3220.000000</td>\n      <td>3220.000000</td>\n      <td>3220.000000</td>\n      <td>3220.000000</td>\n      <td>3220.000000</td>\n      <td>3220.000000</td>\n      <td>3220.000000</td>\n      <td>3220.000000</td>\n      <td>3220.000000</td>\n      <td>3220.000000</td>\n      <td>3220.000000</td>\n      <td>3220.000000</td>\n      <td>3220.000000</td>\n    </tr>\n    <tr>\n      <th>mean</th>\n      <td>4.975060e+04</td>\n      <td>4157.086025</td>\n      <td>6.642154e+04</td>\n      <td>944.11646</td>\n      <td>9.893789</td>\n      <td>12.896273</td>\n      <td>47.51646</td>\n      <td>103.694410</td>\n      <td>211.418323</td>\n      <td>173.291925</td>\n      <td>234.764907</td>\n      <td>872.355901</td>\n      <td>335.071739</td>\n      <td>941.885404</td>\n      <td>1117.521429</td>\n      <td>1300.563354</td>\n      <td>1476.533540</td>\n      <td>1187.417391</td>\n      <td>8.094892</td>\n      <td>14.944075</td>\n    </tr>\n    <tr>\n      <th>std</th>\n      <td>1.646312e+05</td>\n      <td>15298.072448</td>\n      <td>2.121312e+05</td>\n      <td>5089.09270</td>\n      <td>50.397105</td>\n      <td>68.086639</td>\n      <td>313.80419</td>\n      <td>741.564217</td>\n      <td>1423.940898</td>\n      <td>994.090159</td>\n      <td>1374.424843</td>\n      <td>6735.333939</td>\n      <td>1311.091658</td>\n      <td>3020.298931</td>\n      <td>4680.464334</td>\n      <td>3539.358346</td>\n      <td>4515.542014</td>\n      <td>5205.656965</td>\n      <td>4.094913</td>\n      <td>7.041840</td>\n    </tr>\n    <tr>\n      <th>min</th>\n      <td>6.400000e+01</td>\n      <td>0.000000</td>\n      <td>7.800000e+01</td>\n      <td>0.00000</td>\n      <td>0.000000</td>\n      <td>0.000000</td>\n      <td>0.00000</td>\n      <td>0.000000</td>\n      <td>0.000000</td>\n      <td>0.000000</td>\n      <td>0.000000</td>\n      <td>0.000000</td>\n      <td>0.000000</td>\n      <td>0.000000</td>\n      <td>0.000000</td>\n      <td>0.000000</td>\n      <td>0.000000</td>\n      <td>0.000000</td>\n      <td>0.000000</td>\n      <td>1.591696</td>\n    </tr>\n    <tr>\n      <th>25%</th>\n      <td>4.911750e+03</td>\n      <td>361.000000</td>\n      <td>7.762500e+03</td>\n      <td>63.00000</td>\n      <td>0.000000</td>\n      <td>0.000000</td>\n      <td>0.00000</td>\n      <td>0.000000</td>\n      <td>3.000000</td>\n      <td>2.000000</td>\n      <td>6.000000</td>\n      <td>30.000000</td>\n      <td>28.000000</td>\n      <td>166.000000</td>\n      <td>128.750000</td>\n      <td>188.750000</td>\n      <td>213.000000</td>\n      <td>107.000000</td>\n      <td>5.520789</td>\n      <td>9.658453</td>\n    </tr>\n    <tr>\n      <th>50%</th>\n      <td>1.155500e+04</td>\n      <td>988.500000</td>\n      <td>1.777650e+04</td>\n      <td>197.00000</td>\n      <td>0.000000</td>\n      <td>0.000000</td>\n      <td>0.00000</td>\n      <td>8.000000</td>\n      <td>25.000000</td>\n      <td>22.000000</td>\n      <td>35.500000</td>\n      <td>104.500000</td>\n      <td>99.000000</td>\n      <td>386.500000</td>\n      <td>356.000000</td>\n      <td>488.000000</td>\n      <td>531.000000</td>\n      <td>275.000000</td>\n      <td>7.598830</td>\n      <td>13.278299</td>\n    </tr>\n    <tr>\n      <th>75%</th>\n      <td>3.124100e+04</td>\n      <td>2620.500000</td>\n      <td>4.450600e+04</td>\n      <td>519.00000</td>\n      <td>3.000000</td>\n      <td>6.000000</td>\n      <td>20.00000</td>\n      <td>41.000000</td>\n      <td>94.000000</td>\n      <td>82.000000</td>\n      <td>117.000000</td>\n      <td>329.250000</td>\n      <td>267.500000</td>\n      <td>816.000000</td>\n      <td>854.250000</td>\n      <td>1133.500000</td>\n      <td>1181.750000</td>\n      <td>707.500000</td>\n      <td>9.895258</td>\n      <td>19.348905</td>\n    </tr>\n    <tr>\n      <th>max</th>\n      <td>5.150589e+06</td>\n      <td>515124.000000</td>\n      <td>6.653174e+06</td>\n      <td>217614.00000</td>\n      <td>1813.000000</td>\n      <td>2783.000000</td>\n      <td>14391.00000</td>\n      <td>33566.000000</td>\n      <td>63872.000000</td>\n      <td>41752.000000</td>\n      <td>56909.000000</td>\n      <td>306175.000000</td>\n      <td>47508.000000</td>\n      <td>99483.000000</td>\n      <td>182843.000000</td>\n      <td>98237.000000</td>\n      <td>146439.000000</td>\n      <td>198125.000000</td>\n      <td>36.503258</td>\n      <td>53.720346</td>\n    </tr>\n  </tbody>\n</table>\n</div>"
     },
     "metadata": {},
     "execution_count": 4
    }
   ],
   "source": [
    "cookbg = censusdata.download('acs5', 2015,\n",
    "                             censusdata.censusgeo([('county','*')]),\n",
    "                             ['B23025_003E', 'B23025_005E', 'B15003_001E', 'B15003_002E', 'B15003_003E',\n",
    "                              'B15003_004E', 'B15003_005E', 'B15003_006E', 'B15003_007E', 'B15003_008E',\n",
    "                              'B15003_009E', 'B15003_010E', 'B15003_011E', 'B15003_012E', 'B15003_013E',\n",
    "                              'B15003_014E', 'B15003_015E', 'B15003_016E'])\n",
    "cookbg['percent_unemployed'] = cookbg.B23025_005E / cookbg.B23025_003E * 100\n",
    "cookbg['percent_nohs'] = (cookbg.B15003_002E + cookbg.B15003_003E + cookbg.B15003_004E\n",
    "                          + cookbg.B15003_005E + cookbg.B15003_006E + cookbg.B15003_007E + cookbg.B15003_008E\n",
    "                          + cookbg.B15003_009E + cookbg.B15003_010E + cookbg.B15003_011E + cookbg.B15003_012E\n",
    "                          + cookbg.B15003_013E + cookbg.B15003_014E +\n",
    "                          cookbg.B15003_015E + cookbg.B15003_016E) / cookbg.B15003_001E * 100\n",
    "#cookbg = cookbg[['percent_unemployed', 'percent_nohs']]\n",
    "cookbg.describe()"
   ]
  },
  {
   "cell_type": "code",
   "execution_count": 5,
   "id": "innovative-cookbook",
   "metadata": {},
   "outputs": [
    {
     "output_type": "execute_result",
     "data": {
      "text/plain": [
       "                                                    B23025_003E  B23025_005E  \\\n",
       "Childress County, Texas: Summary level: 050, st...         2743          143   \n",
       "Comal County, Texas: Summary level: 050, state:...        57007         2817   \n",
       "\n",
       "                                                    B15003_001E  B15003_002E  \\\n",
       "Childress County, Texas: Summary level: 050, st...         4806           17   \n",
       "Comal County, Texas: Summary level: 050, state:...        82814         1265   \n",
       "\n",
       "                                                    B15003_003E  B15003_004E  \\\n",
       "Childress County, Texas: Summary level: 050, st...            0            0   \n",
       "Comal County, Texas: Summary level: 050, state:...           12           92   \n",
       "\n",
       "                                                    B15003_005E  B15003_006E  \\\n",
       "Childress County, Texas: Summary level: 050, st...            0            5   \n",
       "Comal County, Texas: Summary level: 050, state:...           56          149   \n",
       "\n",
       "                                                    B15003_007E  B15003_008E  \\\n",
       "Childress County, Texas: Summary level: 050, st...            3            0   \n",
       "Comal County, Texas: Summary level: 050, state:...          222          134   \n",
       "\n",
       "                                                    B15003_009E  B15003_010E  \\\n",
       "Childress County, Texas: Summary level: 050, st...           58           87   \n",
       "Comal County, Texas: Summary level: 050, state:...          235          943   \n",
       "\n",
       "                                                    B15003_011E  B15003_012E  \\\n",
       "Childress County, Texas: Summary level: 050, st...            0          130   \n",
       "Comal County, Texas: Summary level: 050, state:...          331          669   \n",
       "\n",
       "                                                    B15003_013E  B15003_014E  \\\n",
       "Childress County, Texas: Summary level: 050, st...           28          111   \n",
       "Comal County, Texas: Summary level: 050, state:...          706         1076   \n",
       "\n",
       "                                                    B15003_015E  B15003_016E  \\\n",
       "Childress County, Texas: Summary level: 050, st...          167           24   \n",
       "Comal County, Texas: Summary level: 050, state:...          975         1026   \n",
       "\n",
       "                                                    percent_unemployed  \\\n",
       "Childress County, Texas: Summary level: 050, st...            5.213270   \n",
       "Comal County, Texas: Summary level: 050, state:...            4.941498   \n",
       "\n",
       "                                                    percent_nohs  \n",
       "Childress County, Texas: Summary level: 050, st...     13.108614  \n",
       "Comal County, Texas: Summary level: 050, state:...      9.528582  "
      ],
      "text/html": "<div>\n<style scoped>\n    .dataframe tbody tr th:only-of-type {\n        vertical-align: middle;\n    }\n\n    .dataframe tbody tr th {\n        vertical-align: top;\n    }\n\n    .dataframe thead th {\n        text-align: right;\n    }\n</style>\n<table border=\"1\" class=\"dataframe\">\n  <thead>\n    <tr style=\"text-align: right;\">\n      <th></th>\n      <th>B23025_003E</th>\n      <th>B23025_005E</th>\n      <th>B15003_001E</th>\n      <th>B15003_002E</th>\n      <th>B15003_003E</th>\n      <th>B15003_004E</th>\n      <th>B15003_005E</th>\n      <th>B15003_006E</th>\n      <th>B15003_007E</th>\n      <th>B15003_008E</th>\n      <th>B15003_009E</th>\n      <th>B15003_010E</th>\n      <th>B15003_011E</th>\n      <th>B15003_012E</th>\n      <th>B15003_013E</th>\n      <th>B15003_014E</th>\n      <th>B15003_015E</th>\n      <th>B15003_016E</th>\n      <th>percent_unemployed</th>\n      <th>percent_nohs</th>\n    </tr>\n  </thead>\n  <tbody>\n    <tr>\n      <th>Childress County, Texas: Summary level: 050, state:48&gt; county:075</th>\n      <td>2743</td>\n      <td>143</td>\n      <td>4806</td>\n      <td>17</td>\n      <td>0</td>\n      <td>0</td>\n      <td>0</td>\n      <td>5</td>\n      <td>3</td>\n      <td>0</td>\n      <td>58</td>\n      <td>87</td>\n      <td>0</td>\n      <td>130</td>\n      <td>28</td>\n      <td>111</td>\n      <td>167</td>\n      <td>24</td>\n      <td>5.213270</td>\n      <td>13.108614</td>\n    </tr>\n    <tr>\n      <th>Comal County, Texas: Summary level: 050, state:48&gt; county:091</th>\n      <td>57007</td>\n      <td>2817</td>\n      <td>82814</td>\n      <td>1265</td>\n      <td>12</td>\n      <td>92</td>\n      <td>56</td>\n      <td>149</td>\n      <td>222</td>\n      <td>134</td>\n      <td>235</td>\n      <td>943</td>\n      <td>331</td>\n      <td>669</td>\n      <td>706</td>\n      <td>1076</td>\n      <td>975</td>\n      <td>1026</td>\n      <td>4.941498</td>\n      <td>9.528582</td>\n    </tr>\n  </tbody>\n</table>\n</div>"
     },
     "metadata": {},
     "execution_count": 5
    }
   ],
   "source": [
    "cookbg.head(2)"
   ]
  },
  {
   "source": [],
   "cell_type": "code",
   "metadata": {},
   "execution_count": null,
   "outputs": []
  },
  {
   "cell_type": "code",
   "execution_count": 6,
   "metadata": {},
   "outputs": [
    {
     "output_type": "execute_result",
     "data": {
      "text/plain": [
       "[('B06012PR_002E',\n",
       "  'PLACE OF BIRTH BY POVERTY STATUS IN THE PAST 12 MONTHS IN PUERTO RICO',\n",
       "  'Estimate!!Total!!Below 100 percent of the poverty level'),\n",
       " ('B06012PR_003E',\n",
       "  'PLACE OF BIRTH BY POVERTY STATUS IN THE PAST 12 MONTHS IN PUERTO RICO',\n",
       "  'Estimate!!Total!!100 to 149 percent of the poverty level'),\n",
       " ('B06012PR_004E',\n",
       "  'PLACE OF BIRTH BY POVERTY STATUS IN THE PAST 12 MONTHS IN PUERTO RICO',\n",
       "  'Estimate!!Total!!At or above 150 percent of the poverty level'),\n",
       " ('B06012PR_006E',\n",
       "  'PLACE OF BIRTH BY POVERTY STATUS IN THE PAST 12 MONTHS IN PUERTO RICO',\n",
       "  'Estimate!!Total!!Born in Puerto Rico!!Below 100 percent of the poverty level'),\n",
       " ('B06012PR_007E',\n",
       "  'PLACE OF BIRTH BY POVERTY STATUS IN THE PAST 12 MONTHS IN PUERTO RICO',\n",
       "  'Estimate!!Total!!Born in Puerto Rico!!100 to 149 percent of the poverty level')]"
      ]
     },
     "metadata": {},
     "execution_count": 6
    }
   ],
   "source": [
    "censusdata.search('acs5', 2015, 'label', 'poverty')[:5]\n"
   ]
  },
  {
   "cell_type": "code",
   "execution_count": 9,
   "metadata": {},
   "outputs": [
    {
     "output_type": "execute_result",
     "data": {
      "text/plain": [
       "[('B08126_011E',\n",
       "  'MEANS OF TRANSPORTATION TO WORK BY INDUSTRY',\n",
       "  'Estimate!!Total!!Educational services, and health care and social assistance'),\n",
       " ('B08126_026E',\n",
       "  'MEANS OF TRANSPORTATION TO WORK BY INDUSTRY',\n",
       "  'Estimate!!Total!!Car, truck, or van - drove alone!!Educational services, and health care and social assistance'),\n",
       " ('B08126_041E',\n",
       "  'MEANS OF TRANSPORTATION TO WORK BY INDUSTRY',\n",
       "  'Estimate!!Total!!Car, truck, or van - carpooled!!Educational services, and health care and social assistance'),\n",
       " ('B08126_056E',\n",
       "  'MEANS OF TRANSPORTATION TO WORK BY INDUSTRY',\n",
       "  'Estimate!!Total!!Public transportation (excluding taxicab)!!Educational services, and health care and social assistance'),\n",
       " ('B08126_071E',\n",
       "  'MEANS OF TRANSPORTATION TO WORK BY INDUSTRY',\n",
       "  'Estimate!!Total!!Walked!!Educational services, and health care and social assistance')]"
      ]
     },
     "metadata": {},
     "execution_count": 9
    }
   ],
   "source": [
    "censusdata.search('acs5', 2015, 'label', 'education')[:5]\n"
   ]
  },
  {
   "cell_type": "code",
   "execution_count": 10,
   "metadata": {},
   "outputs": [
    {
     "output_type": "execute_result",
     "data": {
      "text/plain": [
       "[('B19053_002E',\n",
       "  'SELF-EMPLOYMENT INCOME IN THE PAST 12 MONTHS FOR HOUSEHOLDS',\n",
       "  'Estimate!!Total!!With self-employment income'),\n",
       " ('B19053_003E',\n",
       "  'SELF-EMPLOYMENT INCOME IN THE PAST 12 MONTHS FOR HOUSEHOLDS',\n",
       "  'Estimate!!Total!!No self-employment income'),\n",
       " ('B19063_001E',\n",
       "  'AGGREGATE SELF-EMPLOYMENT INCOME IN THE PAST 12 MONTHS (IN 2015 INFLATION-ADJUSTED DOLLARS) FOR HOUSEHOLDS',\n",
       "  'Estimate!!Aggregate self-employment income in the past 12 months (in 2015 Inflation-adjusted dollars)')]"
      ]
     },
     "metadata": {},
     "execution_count": 10
    }
   ],
   "source": [
    "censusdata.search('acs5', 2015, 'label', 'employment')[:5]\n"
   ]
  },
  {
   "cell_type": "code",
   "execution_count": 11,
   "metadata": {},
   "outputs": [
    {
     "output_type": "execute_result",
     "data": {
      "text/plain": [
       "[('B07013PR_002E',\n",
       "  'GEOGRAPHICAL MOBILITY IN THE PAST YEAR BY TENURE FOR CURRENT RESIDENCE IN PUERTO RICO',\n",
       "  'Estimate!!Total!!Householder lived in owner-occupied housing units'),\n",
       " ('B07013PR_003E',\n",
       "  'GEOGRAPHICAL MOBILITY IN THE PAST YEAR BY TENURE FOR CURRENT RESIDENCE IN PUERTO RICO',\n",
       "  'Estimate!!Total!!Householder lived in renter-occupied housing units'),\n",
       " ('B07013PR_005E',\n",
       "  'GEOGRAPHICAL MOBILITY IN THE PAST YEAR BY TENURE FOR CURRENT RESIDENCE IN PUERTO RICO',\n",
       "  'Estimate!!Total!!Same house 1 year ago!!Householder lived in owner-occupied housing units'),\n",
       " ('B07013PR_006E',\n",
       "  'GEOGRAPHICAL MOBILITY IN THE PAST YEAR BY TENURE FOR CURRENT RESIDENCE IN PUERTO RICO',\n",
       "  'Estimate!!Total!!Same house 1 year ago!!Householder lived in renter-occupied housing units'),\n",
       " ('B07013PR_008E',\n",
       "  'GEOGRAPHICAL MOBILITY IN THE PAST YEAR BY TENURE FOR CURRENT RESIDENCE IN PUERTO RICO',\n",
       "  'Estimate!!Total!!Moved within same municipio!!Householder lived in owner-occupied housing units')]"
      ]
     },
     "metadata": {},
     "execution_count": 11
    }
   ],
   "source": [
    "censusdata.search('acs5', 2015, 'label', 'housing')[:5]\n"
   ]
  },
  {
   "cell_type": "code",
   "execution_count": 12,
   "metadata": {},
   "outputs": [
    {
     "output_type": "execute_result",
     "data": {
      "text/plain": [
       "[('B07013PR_002E',\n",
       "  'GEOGRAPHICAL MOBILITY IN THE PAST YEAR BY TENURE FOR CURRENT RESIDENCE IN PUERTO RICO',\n",
       "  'Estimate!!Total!!Householder lived in owner-occupied housing units'),\n",
       " ('B07013PR_003E',\n",
       "  'GEOGRAPHICAL MOBILITY IN THE PAST YEAR BY TENURE FOR CURRENT RESIDENCE IN PUERTO RICO',\n",
       "  'Estimate!!Total!!Householder lived in renter-occupied housing units'),\n",
       " ('B07013PR_005E',\n",
       "  'GEOGRAPHICAL MOBILITY IN THE PAST YEAR BY TENURE FOR CURRENT RESIDENCE IN PUERTO RICO',\n",
       "  'Estimate!!Total!!Same house 1 year ago!!Householder lived in owner-occupied housing units'),\n",
       " ('B07013PR_006E',\n",
       "  'GEOGRAPHICAL MOBILITY IN THE PAST YEAR BY TENURE FOR CURRENT RESIDENCE IN PUERTO RICO',\n",
       "  'Estimate!!Total!!Same house 1 year ago!!Householder lived in renter-occupied housing units'),\n",
       " ('B07013PR_008E',\n",
       "  'GEOGRAPHICAL MOBILITY IN THE PAST YEAR BY TENURE FOR CURRENT RESIDENCE IN PUERTO RICO',\n",
       "  'Estimate!!Total!!Moved within same municipio!!Householder lived in owner-occupied housing units')]"
      ]
     },
     "metadata": {},
     "execution_count": 12
    }
   ],
   "source": [
    "censusdata.search('acs5', 2015, 'label', 'household')[:5]\n"
   ]
  },
  {
   "cell_type": "code",
   "execution_count": 14,
   "metadata": {},
   "outputs": [
    {
     "output_type": "execute_result",
     "data": {
      "text/plain": [
       "[('B08006_008E',\n",
       "  'SEX OF WORKERS BY MEANS OF TRANSPORTATION TO WORK',\n",
       "  'Estimate!!Total:!!Public transportation (excluding taxicab):'),\n",
       " ('B08006_009E',\n",
       "  'SEX OF WORKERS BY MEANS OF TRANSPORTATION TO WORK',\n",
       "  'Estimate!!Total:!!Public transportation (excluding taxicab):!!Bus'),\n",
       " ('B08006_010E',\n",
       "  'SEX OF WORKERS BY MEANS OF TRANSPORTATION TO WORK',\n",
       "  'Estimate!!Total:!!Public transportation (excluding taxicab):!!Subway or elevated rail'),\n",
       " ('B08006_011E',\n",
       "  'SEX OF WORKERS BY MEANS OF TRANSPORTATION TO WORK',\n",
       "  'Estimate!!Total:!!Public transportation (excluding taxicab):!!Long-distance train or commuter rail'),\n",
       " ('B08006_012E',\n",
       "  'SEX OF WORKERS BY MEANS OF TRANSPORTATION TO WORK',\n",
       "  'Estimate!!Total:!!Public transportation (excluding taxicab):!!Light rail, streetcar or trolley (carro pÃºblico in Puerto Rico)')]"
      ]
     },
     "metadata": {},
     "execution_count": 14
    }
   ],
   "source": [
    "censusdata.search('acs5', 2019, 'label', 'transportation')[:5]\n"
   ]
  },
  {
   "cell_type": "code",
   "execution_count": null,
   "metadata": {},
   "outputs": [],
   "source": []
  },
  {
   "cell_type": "code",
   "execution_count": null,
   "metadata": {},
   "outputs": [],
   "source": []
  },
  {
   "cell_type": "code",
   "execution_count": 15,
   "metadata": {},
   "outputs": [],
   "source": [
    "df = censusdata.download('acs5', \n",
    "           2015,\n",
    "           censusdata.censusgeo([('state', '36'), ('county', '*')]),\n",
    "           ['B08301_001E', 'B08301_010E'])\n",
    "\n",
    "\n",
    "column_names = ['total_transpo', 'total_public_transpo']\n",
    "df.columns = column_names\n",
    "df['percent_public_transpo'] = df.apply(\n",
    "   lambda row: row['total_public_transpo']/row['total_transpo'], \n",
    "   axis = 1)\n",
    "new_indices = []\n",
    "county_names = []\n",
    "for index in df.index.tolist():\n",
    "        new_index = index.geo[0][1] + index.geo[1][1]\n",
    "        new_indices.append(new_index)\n",
    "        county_name = index.name.split(',')[0]\n",
    "        county_names.append(county_name)\n",
    "df.index = new_indices\n",
    "df['county_name'] = county_names"
   ]
  },
  {
   "cell_type": "code",
   "execution_count": 17,
   "metadata": {},
   "outputs": [
    {
     "output_type": "error",
     "ename": "ImportError",
     "evalue": "geopandas, pyshp and shapely must be installed for this figure factory.\n\nRun the following commands to install the correct versions of the following modules:\n\n```\n$ pip install geopandas==0.3.0\n$ pip install pyshp==1.2.10\n$ pip install shapely==1.6.3\n```\nIf you are using Windows, follow this post to properly install geopandas and dependencies:http://geoffboeing.com/2014/09/using-geopandas-windows/\n\nIf you are using Anaconda, do not use PIP to install the packages above. Instead use conda to install them:\n\n```\n$ conda install plotly\n$ conda install geopandas\n```",
     "traceback": [
      "\u001b[0;31m---------------------------------------------------------------------------\u001b[0m",
      "\u001b[0;31mImportError\u001b[0m                               Traceback (most recent call last)",
      "\u001b[0;32m<ipython-input-17-8f0a3fbdcb28>\u001b[0m in \u001b[0;36m<module>\u001b[0;34m\u001b[0m\n\u001b[1;32m      1\u001b[0m \u001b[0;32mimport\u001b[0m \u001b[0mplotly\u001b[0m\u001b[0;34m.\u001b[0m\u001b[0mfigure_factory\u001b[0m \u001b[0;32mas\u001b[0m \u001b[0mff\u001b[0m\u001b[0;34m\u001b[0m\u001b[0;34m\u001b[0m\u001b[0m\n\u001b[0;32m----> 2\u001b[0;31m fig = ff.create_choropleth(fips=df.index, \n\u001b[0m\u001b[1;32m      3\u001b[0m                            \u001b[0mscope\u001b[0m\u001b[0;34m=\u001b[0m\u001b[0;34m[\u001b[0m\u001b[0;34m'New York'\u001b[0m\u001b[0;34m]\u001b[0m\u001b[0;34m,\u001b[0m\u001b[0;34m\u001b[0m\u001b[0;34m\u001b[0m\u001b[0m\n\u001b[1;32m      4\u001b[0m                            \u001b[0mvalues\u001b[0m\u001b[0;34m=\u001b[0m\u001b[0mdf\u001b[0m\u001b[0;34m.\u001b[0m\u001b[0mpercent_public_transpo\u001b[0m\u001b[0;34m,\u001b[0m\u001b[0;34m\u001b[0m\u001b[0;34m\u001b[0m\u001b[0m\n\u001b[1;32m      5\u001b[0m                            \u001b[0mtitle\u001b[0m\u001b[0;34m=\u001b[0m\u001b[0;34m'NY Public Transit Use by County'\u001b[0m\u001b[0;34m,\u001b[0m\u001b[0;34m\u001b[0m\u001b[0;34m\u001b[0m\u001b[0m\n",
      "\u001b[0;32m~/opt/anaconda3/lib/python3.8/site-packages/plotly/figure_factory/_county_choropleth.py\u001b[0m in \u001b[0;36mcreate_choropleth\u001b[0;34m(fips, values, scope, binning_endpoints, colorscale, order, simplify_county, simplify_state, asp, show_hover, show_state_data, state_outline, county_outline, centroid_marker, round_legend_values, exponent_format, legend_title, **layout_options)\u001b[0m\n\u001b[1;32m    617\u001b[0m \u001b[0;34m\u001b[0m\u001b[0m\n\u001b[1;32m    618\u001b[0m     \u001b[0;32mif\u001b[0m \u001b[0;32mnot\u001b[0m \u001b[0mgp\u001b[0m \u001b[0;32mor\u001b[0m \u001b[0;32mnot\u001b[0m \u001b[0mshapefile\u001b[0m \u001b[0;32mor\u001b[0m \u001b[0;32mnot\u001b[0m \u001b[0mshapely\u001b[0m\u001b[0;34m:\u001b[0m\u001b[0;34m\u001b[0m\u001b[0;34m\u001b[0m\u001b[0m\n\u001b[0;32m--> 619\u001b[0;31m         raise ImportError(\n\u001b[0m\u001b[1;32m    620\u001b[0m             \u001b[0;34m\"geopandas, pyshp and shapely must be installed for this figure \"\u001b[0m\u001b[0;34m\u001b[0m\u001b[0;34m\u001b[0m\u001b[0m\n\u001b[1;32m    621\u001b[0m             \u001b[0;34m\"factory.\\n\\nRun the following commands to install the correct \"\u001b[0m\u001b[0;34m\u001b[0m\u001b[0;34m\u001b[0m\u001b[0m\n",
      "\u001b[0;31mImportError\u001b[0m: geopandas, pyshp and shapely must be installed for this figure factory.\n\nRun the following commands to install the correct versions of the following modules:\n\n```\n$ pip install geopandas==0.3.0\n$ pip install pyshp==1.2.10\n$ pip install shapely==1.6.3\n```\nIf you are using Windows, follow this post to properly install geopandas and dependencies:http://geoffboeing.com/2014/09/using-geopandas-windows/\n\nIf you are using Anaconda, do not use PIP to install the packages above. Instead use conda to install them:\n\n```\n$ conda install plotly\n$ conda install geopandas\n```"
     ]
    }
   ],
   "source": [
    "import plotly.figure_factory as ff\n",
    "fig = ff.create_choropleth(fips=df.index, \n",
    "                           scope=['New York'],\n",
    "                           values=df.percent_public_transpo, \n",
    "                           title='NY Public Transit Use by County', \n",
    "                           legend_title='% Public Transit')\n",
    "fig.layout.template = None\n",
    "fig.show()"
   ]
  },
  {
   "cell_type": "code",
   "execution_count": null,
   "metadata": {},
   "outputs": [],
   "source": []
  }
 ],
 "metadata": {
  "kernelspec": {
   "name": "python3",
   "display_name": "Python 3.8.8 64-bit ('base': conda)"
  },
  "language_info": {
   "codemirror_mode": {
    "name": "ipython",
    "version": 3
   },
   "file_extension": ".py",
   "mimetype": "text/x-python",
   "name": "python",
   "nbconvert_exporter": "python",
   "pygments_lexer": "ipython3",
   "version": "3.8.8"
  },
  "interpreter": {
   "hash": "d18287ac49a190e465c6b8b3e255449069228871b52171c694f2e28cbb0461d3"
  }
 },
 "nbformat": 4,
 "nbformat_minor": 5
}