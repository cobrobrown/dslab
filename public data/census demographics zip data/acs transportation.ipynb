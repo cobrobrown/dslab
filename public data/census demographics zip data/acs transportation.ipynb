{
 "metadata": {
  "language_info": {
   "codemirror_mode": {
    "name": "ipython",
    "version": 3
   },
   "file_extension": ".py",
   "mimetype": "text/x-python",
   "name": "python",
   "nbconvert_exporter": "python",
   "pygments_lexer": "ipython3",
   "version": "3.8.8"
  },
  "orig_nbformat": 4,
  "kernelspec": {
   "name": "python3",
   "display_name": "Python 3.8.8 64-bit ('base': conda)"
  },
  "interpreter": {
   "hash": "d18287ac49a190e465c6b8b3e255449069228871b52171c694f2e28cbb0461d3"
  }
 },
 "nbformat": 4,
 "nbformat_minor": 2,
 "cells": [
  {
   "cell_type": "code",
   "execution_count": 13,
   "metadata": {},
   "outputs": [],
   "source": [
    "import pandas as pd\n",
    "import censusdata\n",
    "import plotly.figure_factory as ff\n"
   ]
  },
  {
   "cell_type": "code",
   "execution_count": 14,
   "metadata": {},
   "outputs": [],
   "source": [
    "df = censusdata.download('acs5', \n",
    "           2015,\n",
    "           censusdata.censusgeo([('state', '36'), ('county', '*')]),\n",
    "           ['B08301_001E', 'B08301_010E'])\n",
    "\n",
    "\n",
    "column_names = ['total_transpo', 'total_public_transpo']\n",
    "df.columns = column_names\n",
    "df['percent_public_transpo'] = df.apply(\n",
    "   lambda row: row['total_public_transpo']/row['total_transpo'], \n",
    "   axis = 1)\n",
    "new_indices = []\n",
    "county_names = []\n",
    "for index in df.index.tolist():\n",
    "        new_index = index.geo[0][1] + index.geo[1][1]\n",
    "        new_indices.append(new_index)\n",
    "        county_name = index.name.split(',')[0]\n",
    "        county_names.append(county_name)\n",
    "df.index = new_indices\n",
    "df['county_name'] = county_names"
   ]
  },
  {
   "cell_type": "code",
   "execution_count": 15,
   "metadata": {},
   "outputs": [
    {
     "output_type": "execute_result",
     "data": {
      "text/plain": [
       "       total_transpo  total_public_transpo  percent_public_transpo  \\\n",
       "36047        1142200                705103                0.617320   \n",
       "36005         547961                327310                0.597324   \n",
       "36061         867298                513185                0.591706   \n",
       "36081        1076754                562857                0.522735   \n",
       "36085         205922                 61319                0.297778   \n",
       "36119         454471                 98927                0.217675   \n",
       "36059         653645                106362                0.162721   \n",
       "36087         142565                 12292                0.086220   \n",
       "36079          50308                  4196                0.083406   \n",
       "36103         721417                 47169                0.065384   \n",
       "\n",
       "              county_name  \n",
       "36047        Kings County  \n",
       "36005        Bronx County  \n",
       "36061     New York County  \n",
       "36081       Queens County  \n",
       "36085     Richmond County  \n",
       "36119  Westchester County  \n",
       "36059       Nassau County  \n",
       "36087     Rockland County  \n",
       "36079       Putnam County  \n",
       "36103      Suffolk County  "
      ],
      "text/html": "<div>\n<style scoped>\n    .dataframe tbody tr th:only-of-type {\n        vertical-align: middle;\n    }\n\n    .dataframe tbody tr th {\n        vertical-align: top;\n    }\n\n    .dataframe thead th {\n        text-align: right;\n    }\n</style>\n<table border=\"1\" class=\"dataframe\">\n  <thead>\n    <tr style=\"text-align: right;\">\n      <th></th>\n      <th>total_transpo</th>\n      <th>total_public_transpo</th>\n      <th>percent_public_transpo</th>\n      <th>county_name</th>\n    </tr>\n  </thead>\n  <tbody>\n    <tr>\n      <th>36047</th>\n      <td>1142200</td>\n      <td>705103</td>\n      <td>0.617320</td>\n      <td>Kings County</td>\n    </tr>\n    <tr>\n      <th>36005</th>\n      <td>547961</td>\n      <td>327310</td>\n      <td>0.597324</td>\n      <td>Bronx County</td>\n    </tr>\n    <tr>\n      <th>36061</th>\n      <td>867298</td>\n      <td>513185</td>\n      <td>0.591706</td>\n      <td>New York County</td>\n    </tr>\n    <tr>\n      <th>36081</th>\n      <td>1076754</td>\n      <td>562857</td>\n      <td>0.522735</td>\n      <td>Queens County</td>\n    </tr>\n    <tr>\n      <th>36085</th>\n      <td>205922</td>\n      <td>61319</td>\n      <td>0.297778</td>\n      <td>Richmond County</td>\n    </tr>\n    <tr>\n      <th>36119</th>\n      <td>454471</td>\n      <td>98927</td>\n      <td>0.217675</td>\n      <td>Westchester County</td>\n    </tr>\n    <tr>\n      <th>36059</th>\n      <td>653645</td>\n      <td>106362</td>\n      <td>0.162721</td>\n      <td>Nassau County</td>\n    </tr>\n    <tr>\n      <th>36087</th>\n      <td>142565</td>\n      <td>12292</td>\n      <td>0.086220</td>\n      <td>Rockland County</td>\n    </tr>\n    <tr>\n      <th>36079</th>\n      <td>50308</td>\n      <td>4196</td>\n      <td>0.083406</td>\n      <td>Putnam County</td>\n    </tr>\n    <tr>\n      <th>36103</th>\n      <td>721417</td>\n      <td>47169</td>\n      <td>0.065384</td>\n      <td>Suffolk County</td>\n    </tr>\n  </tbody>\n</table>\n</div>"
     },
     "metadata": {},
     "execution_count": 15
    }
   ],
   "source": [
    "df.sort_values('percent_public_transpo',ascending=False).head(10)"
   ]
  },
  {
   "cell_type": "code",
   "execution_count": 16,
   "metadata": {},
   "outputs": [
    {
     "output_type": "error",
     "ename": "ImportError",
     "evalue": "geopandas, pyshp and shapely must be installed for this figure factory.\n\nRun the following commands to install the correct versions of the following modules:\n\n```\n$ pip install geopandas==0.3.0\n$ pip install pyshp==1.2.10\n$ pip install shapely==1.6.3\n```\nIf you are using Windows, follow this post to properly install geopandas and dependencies:http://geoffboeing.com/2014/09/using-geopandas-windows/\n\nIf you are using Anaconda, do not use PIP to install the packages above. Instead use conda to install them:\n\n```\n$ conda install plotly\n$ conda install geopandas\n```",
     "traceback": [
      "\u001b[0;31m---------------------------------------------------------------------------\u001b[0m",
      "\u001b[0;31mImportError\u001b[0m                               Traceback (most recent call last)",
      "\u001b[0;32m<ipython-input-16-61302eaf486c>\u001b[0m in \u001b[0;36m<module>\u001b[0;34m\u001b[0m\n\u001b[0;32m----> 1\u001b[0;31m fig = ff.create_choropleth(fips=df.index, \n\u001b[0m\u001b[1;32m      2\u001b[0m                            \u001b[0mscope\u001b[0m\u001b[0;34m=\u001b[0m\u001b[0;34m[\u001b[0m\u001b[0;34m'New York'\u001b[0m\u001b[0;34m]\u001b[0m\u001b[0;34m,\u001b[0m\u001b[0;34m\u001b[0m\u001b[0;34m\u001b[0m\u001b[0m\n\u001b[1;32m      3\u001b[0m                            \u001b[0mvalues\u001b[0m\u001b[0;34m=\u001b[0m\u001b[0mdf\u001b[0m\u001b[0;34m.\u001b[0m\u001b[0mpercent_public_transpo\u001b[0m\u001b[0;34m,\u001b[0m\u001b[0;34m\u001b[0m\u001b[0;34m\u001b[0m\u001b[0m\n\u001b[1;32m      4\u001b[0m                            \u001b[0mtitle\u001b[0m\u001b[0;34m=\u001b[0m\u001b[0;34m'NY Public Transit Use by County'\u001b[0m\u001b[0;34m,\u001b[0m\u001b[0;34m\u001b[0m\u001b[0;34m\u001b[0m\u001b[0m\n\u001b[1;32m      5\u001b[0m                            legend_title='% Public Transit')\n",
      "\u001b[0;32m~/opt/anaconda3/lib/python3.8/site-packages/plotly/figure_factory/_county_choropleth.py\u001b[0m in \u001b[0;36mcreate_choropleth\u001b[0;34m(fips, values, scope, binning_endpoints, colorscale, order, simplify_county, simplify_state, asp, show_hover, show_state_data, state_outline, county_outline, centroid_marker, round_legend_values, exponent_format, legend_title, **layout_options)\u001b[0m\n\u001b[1;32m    617\u001b[0m \u001b[0;34m\u001b[0m\u001b[0m\n\u001b[1;32m    618\u001b[0m     \u001b[0;32mif\u001b[0m \u001b[0;32mnot\u001b[0m \u001b[0mgp\u001b[0m \u001b[0;32mor\u001b[0m \u001b[0;32mnot\u001b[0m \u001b[0mshapefile\u001b[0m \u001b[0;32mor\u001b[0m \u001b[0;32mnot\u001b[0m \u001b[0mshapely\u001b[0m\u001b[0;34m:\u001b[0m\u001b[0;34m\u001b[0m\u001b[0;34m\u001b[0m\u001b[0m\n\u001b[0;32m--> 619\u001b[0;31m         raise ImportError(\n\u001b[0m\u001b[1;32m    620\u001b[0m             \u001b[0;34m\"geopandas, pyshp and shapely must be installed for this figure \"\u001b[0m\u001b[0;34m\u001b[0m\u001b[0;34m\u001b[0m\u001b[0m\n\u001b[1;32m    621\u001b[0m             \u001b[0;34m\"factory.\\n\\nRun the following commands to install the correct \"\u001b[0m\u001b[0;34m\u001b[0m\u001b[0;34m\u001b[0m\u001b[0m\n",
      "\u001b[0;31mImportError\u001b[0m: geopandas, pyshp and shapely must be installed for this figure factory.\n\nRun the following commands to install the correct versions of the following modules:\n\n```\n$ pip install geopandas==0.3.0\n$ pip install pyshp==1.2.10\n$ pip install shapely==1.6.3\n```\nIf you are using Windows, follow this post to properly install geopandas and dependencies:http://geoffboeing.com/2014/09/using-geopandas-windows/\n\nIf you are using Anaconda, do not use PIP to install the packages above. Instead use conda to install them:\n\n```\n$ conda install plotly\n$ conda install geopandas\n```"
     ]
    }
   ],
   "source": [
    "fig = ff.create_choropleth(fips=df.index, \n",
    "                           scope=['New York'],\n",
    "                           values=df.percent_public_transpo, \n",
    "                           title='NY Public Transit Use by County', \n",
    "                           legend_title='% Public Transit')\n",
    "fig.layout.template = None\n",
    "fig.show()"
   ]
  },
  {
   "cell_type": "code",
   "execution_count": null,
   "metadata": {},
   "outputs": [],
   "source": []
  }
 ]
}