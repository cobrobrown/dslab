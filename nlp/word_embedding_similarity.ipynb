{
 "cells": [
  {
   "cell_type": "markdown",
   "id": "d40a7228",
   "metadata": {},
   "source": [
    "# Word Embedding Similarity"
   ]
  },
  {
   "cell_type": "code",
   "execution_count": 12,
   "id": "c74ac898",
   "metadata": {},
   "outputs": [
    {
     "data": {
      "text/plain": [
       "array([[1.0000002 , 0.29323006, 0.8819476 , 0.15227424, 0.20476913],\n",
       "       [0.29323006, 0.9999999 , 0.25876617, 0.72695744, 0.81420565],\n",
       "       [0.8819476 , 0.25876617, 0.9999999 , 0.1848712 , 0.20447135],\n",
       "       [0.15227424, 0.72695744, 0.1848712 , 1.        , 0.7923467 ],\n",
       "       [0.20476913, 0.81420565, 0.20447135, 0.7923467 , 0.9999999 ]],\n",
       "      dtype=float32)"
      ]
     },
     "execution_count": 12,
     "metadata": {},
     "output_type": "execute_result"
    }
   ],
   "source": [
    "'''\n",
    "!pip install transformers\n",
    "!pip install sentence_transformers\n",
    "'''\n",
    "\n",
    "import sentence_transformers\n",
    "sen = [\"The top 50 melee players\",\n",
    "       \"Include Mang0 and Zain and iBDW\",\n",
    "       \"They are in the top 50 players right now\",\n",
    "       \"yee\",\n",
    "       \"Go Mang0\"]\n",
    "model = sentence_transformers.SentenceTransformer('bert-base-nli-mean-tokens')\n",
    "sen_embed = model.encode(sen)\n",
    "\n",
    "from sklearn.metrics.pairwise import cosine_similarity\n",
    "cosine_similarity(sen_embed)\n"
   ]
  },
  {
   "cell_type": "code",
   "execution_count": null,
   "id": "44b897ea",
   "metadata": {},
   "outputs": [],
   "source": []
  }
 ],
 "metadata": {
  "kernelspec": {
   "display_name": "Python 3",
   "language": "python",
   "name": "python3"
  },
  "language_info": {
   "codemirror_mode": {
    "name": "ipython",
    "version": 3
   },
   "file_extension": ".py",
   "mimetype": "text/x-python",
   "name": "python",
   "nbconvert_exporter": "python",
   "pygments_lexer": "ipython3",
   "version": "3.8.8"
  }
 },
 "nbformat": 4,
 "nbformat_minor": 5
}
