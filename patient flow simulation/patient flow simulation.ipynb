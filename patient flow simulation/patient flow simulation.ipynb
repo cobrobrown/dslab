{
 "cells": [
  {
   "cell_type": "code",
   "execution_count": 4,
   "id": "a7d9d2b8",
   "metadata": {},
   "outputs": [],
   "source": [
    "import pandas as pd\n",
    "import os\n",
    "import plotly\n",
    "import plotly.graph_objects as go\n",
    "from plotly.subplots import make_subplots\n",
    "\n",
    "pd.set_option('display.max_rows',200)\n",
    "pd.set_option('display.max_columns',200)\n",
    "pd.options.plotting.backend = 'plotly'"
   ]
  },
  {
   "cell_type": "code",
   "execution_count": 22,
   "id": "eeac6991",
   "metadata": {},
   "outputs": [
    {
     "data": {
      "application/javascript": [
       "console.log(\"I'm writing JavaScript\");\n"
      ],
      "text/plain": [
       "<IPython.core.display.Javascript object>"
      ]
     },
     "metadata": {},
     "output_type": "display_data"
    }
   ],
   "source": [
    "%%javascript\n",
    "console.log(\"I'm writing JavaScript\");"
   ]
  },
  {
   "cell_type": "code",
   "execution_count": 20,
   "id": "28ee4b3d",
   "metadata": {},
   "outputs": [
    {
     "data": {
      "application/javascript": [
       "(function(element) {\n",
       "   require(['d3'], function(d3) {   \n",
       "       d3.select(element.get(0)).append('svg')\n",
       "           .append('rect')\n",
       "           .attr('width', 50)\n",
       "           .attr('height', 50)\n",
       "           .attr('fill', 'black')\n",
       "           .on('mouseover', function(){d3.select(this).attr('fill', 'red')})\n",
       "           .on('mouseout', function(){d3.select(this).attr('fill', 'black')});\n",
       "   })\n",
       "})(element);\n"
      ],
      "text/plain": [
       "<IPython.core.display.Javascript object>"
      ]
     },
     "metadata": {},
     "output_type": "display_data"
    }
   ],
   "source": [
    " %%javascript\n",
    "(function(element) {\n",
    "    require(['d3'], function(d3) {   \n",
    "        d3.select(element.get(0)).append('svg')\n",
    "            .append('rect')\n",
    "            .attr('width', 50)\n",
    "            .attr('height', 50)\n",
    "            .attr('fill', 'black')\n",
    "            .on('mouseover', function(){d3.select(this).attr('fill', 'red')})\n",
    "            .on('mouseout', function(){d3.select(this).attr('fill', 'black')});\n",
    "    })\n",
    "})(element);"
   ]
  },
  {
   "cell_type": "code",
   "execution_count": 5,
   "id": "721eaa23",
   "metadata": {},
   "outputs": [
    {
     "data": {
      "application/javascript": [
       "alert('Hello World')\n"
      ],
      "text/plain": [
       "<IPython.core.display.Javascript object>"
      ]
     },
     "metadata": {},
     "output_type": "display_data"
    }
   ],
   "source": [
    "%%js\n",
    "alert('Hello World')"
   ]
  },
  {
   "cell_type": "code",
   "execution_count": 6,
   "id": "b9fd815d",
   "metadata": {},
   "outputs": [
    {
     "data": {
      "application/javascript": [
       "md`# Moving Bubble Chart Using D3.js (Internship Search Data w/ Persisting Bubble Colors)`\n"
      ],
      "text/plain": [
       "<IPython.core.display.Javascript object>"
      ]
     },
     "metadata": {},
     "output_type": "display_data"
    }
   ],
   "source": [
    "%%js\n",
    "md`# Moving Bubble Chart Using D3.js (Internship Search Data w/ Persisting Bubble Colors)`"
   ]
  },
  {
   "cell_type": "code",
   "execution_count": 7,
   "id": "93172fb9",
   "metadata": {},
   "outputs": [
    {
     "data": {
      "application/javascript": [
       "d3 = require(\"d3@5\")\n"
      ],
      "text/plain": [
       "<IPython.core.display.Javascript object>"
      ]
     },
     "metadata": {},
     "output_type": "display_data"
    }
   ],
   "source": [
    "%%js\n",
    "d3 = require(\"d3@5\")"
   ]
  },
  {
   "cell_type": "code",
   "execution_count": 15,
   "id": "4fd569cd",
   "metadata": {},
   "outputs": [
    {
     "data": {
      "application/javascript": [
       "groups = {\n",
       "  const groups = {\n",
       "    \"inactive\": { x: width/6, y: 4*height/6, color: \"#c9c9c9\", cnt: 0, fullname: \"Not Sent\" },\n",
       "    \"applied\": { x: 2*width/6, y: 3*height/6, color: \"#BEE5AA\", cnt: 0, fullname: \"Applied\" },\n",
       "    \"online assessment\": { x: 3.5*width/6, y: 2.5*height/6, color: \"#93D1BA\", cnt: 0, fullname: \"Online Assessment\" },\n",
       "    \"final round interview\": { x: 5*width/6, y: 3*height/6, color: \"#a579ce\", cnt: 0, fullname: \"Interviews\" },\n",
       "    \"rejected\": { x: 2*width/6, y: 5*height/6, color: \"match\", cnt: 0, fullname: \"Rejected\" },\n",
       "    \"offer\": { x: 3.5*width/6, y: 5.5*height/6, color: \"match\", cnt: 0, fullname: \"Offer\" },\n",
       "    \"discontinued\": { x: 5*width/6, y: 5*height/6, color: \"match\", cnt: 0, fullname: \"Stopped Process\" },\n",
       "  };\n",
       "  return groups\n",
       "}\n"
      ],
      "text/plain": [
       "<IPython.core.display.Javascript object>"
      ]
     },
     "metadata": {},
     "output_type": "display_data"
    }
   ],
   "source": [
    "%%js\n",
    "groups = {\n",
    "  const groups = {\n",
    "    \"inactive\": { x: width/6, y: 4*height/6, color: \"#c9c9c9\", cnt: 0, fullname: \"Not Sent\" },\n",
    "    \"applied\": { x: 2*width/6, y: 3*height/6, color: \"#BEE5AA\", cnt: 0, fullname: \"Applied\" },\n",
    "    \"online assessment\": { x: 3.5*width/6, y: 2.5*height/6, color: \"#93D1BA\", cnt: 0, fullname: \"Online Assessment\" },\n",
    "    \"final round interview\": { x: 5*width/6, y: 3*height/6, color: \"#a579ce\", cnt: 0, fullname: \"Interviews\" },\n",
    "    \"rejected\": { x: 2*width/6, y: 5*height/6, color: \"match\", cnt: 0, fullname: \"Rejected\" },\n",
    "    \"offer\": { x: 3.5*width/6, y: 5.5*height/6, color: \"match\", cnt: 0, fullname: \"Offer\" },\n",
    "    \"discontinued\": { x: 5*width/6, y: 5*height/6, color: \"match\", cnt: 0, fullname: \"Stopped Process\" },\n",
    "  };\n",
    "  return groups\n",
    "}"
   ]
  },
  {
   "cell_type": "code",
   "execution_count": 13,
   "id": "4d0418e6",
   "metadata": {},
   "outputs": [
    {
     "data": {
      "application/javascript": [
       "html`<!DOCTYPE html>\n",
       "<head>\n",
       "  <meta charset=\"utf-8\">\n",
       "  <title>Timed Moving Bubbles</title>\n",
       "  <link rel=\"stylesheet\" href=\"style/style.css\" type=\"text/css\" media=\"screen\" />\n",
       "</head>\n",
       " \n",
       "<div id=\"main-wrapper\">\n",
       "  <div id=\"chart\"></div>\n",
       "  <h1 id=\"timecount\">Time so far: <span class=\"cnt\">0</span></h1>\n",
       "</div><!-- @end #main-wrapper -->\n"
      ],
      "text/plain": [
       "<IPython.core.display.Javascript object>"
      ]
     },
     "metadata": {},
     "output_type": "display_data"
    }
   ],
   "source": [
    "%%js\n",
    "html`<!DOCTYPE html>\n",
    "<head>\n",
    "  <meta charset=\"utf-8\">\n",
    "  <title>Timed Moving Bubbles</title>\n",
    "  <link rel=\"stylesheet\" href=\"style/style.css\" type=\"text/css\" media=\"screen\" />\n",
    "</head>\n",
    " \n",
    "<div id=\"main-wrapper\">\n",
    "  <div id=\"chart\"></div>\n",
    "  <h1 id=\"timecount\">Time so far: <span class=\"cnt\">0</span></h1>\n",
    "</div><!-- @end #main-wrapper -->"
   ]
  },
  {
   "cell_type": "code",
   "execution_count": null,
   "id": "6ed33094",
   "metadata": {},
   "outputs": [],
   "source": []
  }
 ],
 "metadata": {
  "kernelspec": {
   "display_name": "Python 3",
   "language": "python",
   "name": "python3"
  },
  "language_info": {
   "codemirror_mode": {
    "name": "ipython",
    "version": 3
   },
   "file_extension": ".py",
   "mimetype": "text/x-python",
   "name": "python",
   "nbconvert_exporter": "python",
   "pygments_lexer": "ipython3",
   "version": "3.8.8"
  }
 },
 "nbformat": 4,
 "nbformat_minor": 5
}
