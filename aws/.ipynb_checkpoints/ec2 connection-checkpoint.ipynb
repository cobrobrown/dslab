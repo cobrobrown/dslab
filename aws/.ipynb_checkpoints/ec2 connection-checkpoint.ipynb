{
 "cells": [
  {
   "cell_type": "markdown",
   "id": "eb2ef082",
   "metadata": {},
   "source": [
    "# Log in console\n",
    "ssh -i hello_world_cron.pem ec2-user@ec2-54-219-189-129.us-west-1.compute.amazonaws.com"
   ]
  },
  {
   "cell_type": "markdown",
   "id": "0da432e5",
   "metadata": {},
   "source": [
    "# transfer file\n",
    "scp -i hello_world_cron.pem Hours.xlsx ec2-user@ec2-54-219-189-129.us-west-1.compute.amazonaws.com:Hours.xlsx"
   ]
  },
  {
   "cell_type": "code",
   "execution_count": null,
   "id": "f6a4b2cd",
   "metadata": {},
   "outputs": [],
   "source": []
  }
 ],
 "metadata": {
  "kernelspec": {
   "display_name": "Python 3",
   "language": "python",
   "name": "python3"
  },
  "language_info": {
   "codemirror_mode": {
    "name": "ipython",
    "version": 3
   },
   "file_extension": ".py",
   "mimetype": "text/x-python",
   "name": "python",
   "nbconvert_exporter": "python",
   "pygments_lexer": "ipython3",
   "version": "3.8.8"
  }
 },
 "nbformat": 4,
 "nbformat_minor": 5
}
