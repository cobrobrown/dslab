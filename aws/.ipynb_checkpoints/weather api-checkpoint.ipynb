{
 "cells": [
  {
   "cell_type": "code",
   "execution_count": 6,
   "id": "51ec09fa",
   "metadata": {},
   "outputs": [],
   "source": [
    "from pyowm.owm import OWM\n",
    "api_key = 'f4e7944c907013d8457ae4c279527e88'\n",
    "owm = OWM(api_key)"
   ]
  },
  {
   "cell_type": "code",
   "execution_count": 13,
   "id": "be1b7264",
   "metadata": {},
   "outputs": [
    {
     "data": {
      "text/plain": [
       "[<pyowm.weatherapi25.weather.Weather - reference_time=2022-04-19 11:00:00+00:00, status=clouds, detailed_status=scattered clouds>,\n",
       " <pyowm.weatherapi25.weather.Weather - reference_time=2022-04-20 11:00:00+00:00, status=rain, detailed_status=light rain>,\n",
       " <pyowm.weatherapi25.weather.Weather - reference_time=2022-04-21 11:00:00+00:00, status=clouds, detailed_status=overcast clouds>,\n",
       " <pyowm.weatherapi25.weather.Weather - reference_time=2022-04-22 11:00:00+00:00, status=clouds, detailed_status=overcast clouds>,\n",
       " <pyowm.weatherapi25.weather.Weather - reference_time=2022-04-23 11:00:00+00:00, status=clear, detailed_status=clear sky>,\n",
       " <pyowm.weatherapi25.weather.Weather - reference_time=2022-04-24 11:00:00+00:00, status=clear, detailed_status=clear sky>,\n",
       " <pyowm.weatherapi25.weather.Weather - reference_time=2022-04-25 11:00:00+00:00, status=clouds, detailed_status=few clouds>,\n",
       " <pyowm.weatherapi25.weather.Weather - reference_time=2022-04-26 11:00:00+00:00, status=clear, detailed_status=clear sky>]"
      ]
     },
     "execution_count": 13,
     "metadata": {},
     "output_type": "execute_result"
    }
   ],
   "source": [
    "from pyowm.owm import OWM\n",
    "owm = OWM(api_key)\n",
    "mgr = owm.weather_manager()\n",
    "one_call = mgr.one_call(lat=52.5244, lon=13.4105, units='imperial')\n",
    "\n",
    "one_call.forecast_daily"
   ]
  },
  {
   "cell_type": "code",
   "execution_count": 14,
   "id": "e2bc7f63",
   "metadata": {},
   "outputs": [
    {
     "data": {
      "text/plain": [
       "{'temp': 42.78, 'feels_like': 38.5}"
      ]
     },
     "execution_count": 14,
     "metadata": {},
     "output_type": "execute_result"
    }
   ],
   "source": [
    "one_call.current.temperature()"
   ]
  },
  {
   "cell_type": "code",
   "execution_count": 21,
   "id": "c2dbab73",
   "metadata": {},
   "outputs": [
    {
     "data": {
      "text/plain": [
       "{'temp': 278.94, 'feels_like': 277.66}"
      ]
     },
     "execution_count": 21,
     "metadata": {},
     "output_type": "execute_result"
    }
   ],
   "source": [
    "from pyowm.owm import OWM\n",
    "from pyowm.utils import timestamps, formatting\n",
    "\n",
    "owm = OWM(api_key)\n",
    "mgr = owm.weather_manager()\n",
    "\n",
    "# what is the epoch for yesterday at this time?\n",
    "yesterday_epoch = formatting.to_UNIXtime(timestamps.yesterday())\n",
    "\n",
    "one_call_yesterday = mgr.one_call_history(lat=52.5244, lon=13.4105, dt=yesterday_epoch)\n",
    "one_call_yesterday.current.temperature()"
   ]
  },
  {
   "cell_type": "code",
   "execution_count": 46,
   "id": "461818ac",
   "metadata": {},
   "outputs": [
    {
     "name": "stdout",
     "output_type": "stream",
     "text": [
      "Lawrence,KS {'temp': 18.86, 'feels_like': 13.12}\n",
      "27.1\n",
      "42.01\n",
      "43.77\n",
      "46.56\n",
      "48.16\n",
      "47.28\n",
      "52.25\n",
      "35.31\n",
      "San Diego,CA {'temp': 61.32, 'feels_like': 59.68}\n",
      "65.26\n",
      "70.66\n",
      "77.76\n",
      "83.14\n",
      "85.41\n",
      "76.55\n",
      "79.59\n",
      "79.5\n",
      "San Francisco,CA {'temp': 50.05, 'feels_like': 48.33}\n",
      "50.31\n",
      "55.96\n",
      "55.81\n",
      "52.02\n",
      "54.16\n",
      "53.65\n",
      "54.86\n",
      "51.19\n",
      "Burlington,VT {'temp': 65.93, 'feels_like': 63.97}\n",
      "68.63\n",
      "61.34\n",
      "71.4\n",
      "77\n",
      "77.23\n",
      "74.84\n",
      "55.65\n",
      "64.44\n",
      "df_weather (4, 3)\n",
      "df_forecast (32, 4)\n"
     ]
    }
   ],
   "source": [
    "###################\n",
    "### Weather API ###\n",
    "###################\n",
    "import datetime\n",
    "import pandas as pd\n",
    "today_str = datetime.datetime.today().strftime('%Y-%m-%d')\n",
    "\n",
    "locations = {'Lawrence,KS':{'lat':38.9717,'long':95.2353},\n",
    "             'San Diego,CA':{'lat':32.7157,'long':117.1611},\n",
    "             'San Francisco,CA':{'lat':37.7749,'long':122.4194},\n",
    "             'Burlington,VT':{'lat':44.4759,'long':73.2121}\n",
    "            }\n",
    "\n",
    "\n",
    "from pyowm.owm import OWM\n",
    "api_key = 'f4e7944c907013d8457ae4c279527e88'\n",
    "\n",
    "owm = OWM(api_key)\n",
    "mgr = owm.weather_manager()\n",
    "\n",
    "# df_weather.csv - actual weather by date, location\n",
    "df_weather = pd.DataFrame(columns=['date','location','temperature'])\n",
    "# df_forecasts.csv - forecasted weather by date, forecast_date, location\n",
    "df_forecast = pd.DataFrame(columns=['date','location','forecast_date','temperature'])\n",
    "for location in locations.keys():\n",
    "    one_call = mgr.one_call(lat=locations[location]['lat'], lon=locations[location]['long'], units='imperial')\n",
    "    # weather\n",
    "    temp = one_call.current.temperature()\n",
    "    print(location,temp)\n",
    "    df_weather = df_weather.append({'date':today_str,'location':location,'temperature':temp},ignore_index=True)\n",
    "\n",
    "    # forecasts\n",
    "    forecasts = one_call.forecast_daily\n",
    "    for forecast in forecasts:\n",
    "        temp = forecast.temperature()['day']\n",
    "        reference_time = forecast.reference_time()\n",
    "        forecast_date = datetime.datetime.fromtimestamp(reference_time).strftime('%Y-%m-%d')\n",
    "        df_forecast = df_forecast.append({'date':today_str,'forecast_date':forecast_date,'location':location,'temperature':temp},ignore_index=True)\n",
    "print('df_weather',df_weather.shape)\n",
    "print('df_forecast',df_forecast.shape)"
   ]
  },
  {
   "cell_type": "code",
   "execution_count": null,
   "id": "bf16ce8b",
   "metadata": {},
   "outputs": [],
   "source": []
  }
 ],
 "metadata": {
  "kernelspec": {
   "display_name": "Python 3",
   "language": "python",
   "name": "python3"
  },
  "language_info": {
   "codemirror_mode": {
    "name": "ipython",
    "version": 3
   },
   "file_extension": ".py",
   "mimetype": "text/x-python",
   "name": "python",
   "nbconvert_exporter": "python",
   "pygments_lexer": "ipython3",
   "version": "3.8.8"
  }
 },
 "nbformat": 4,
 "nbformat_minor": 5
}
